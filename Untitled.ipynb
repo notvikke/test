{
 "cells": [
  {
   "cell_type": "code",
   "execution_count": null,
   "id": "8bcc10cc-2aaa-481b-925f-f9a82bfc48ef",
   "metadata": {},
   "outputs": [],
   "source": [
    "import pytesseract\n",
    "from pdf2image import convert_from_path\n",
    "import os\n",
    "\n",
    "# Path of the PDF file\n",
    "pdf_path = 'sample.pdf'\n",
    "\n",
    "# Store all the pages of the PDF in a variable\n",
    "pages = convert_from_path(pdf_path, 500)\n",
    "\n",
    "# Counter to store images of each page of PDF to image\n",
    "image_counter = 1\n",
    "\n",
    "# Iterate through all the pages stored above and convert each page to an image\n",
    "for page in pages:\n",
    "    filename = \"page_\"+str(image_counter)+\".jpg\"\n",
    "    page.save(filename, 'JPEG')\n",
    "    image_counter += 1\n",
    "\n",
    "# Variable to get the file name of each page\n",
    "filelimit = image_counter-1\n",
    "\n",
    "# Creating a text file to write the output\n",
    "outfile = \"output.txt\"\n",
    "\n",
    "# Open the file in write mode\n",
    "f = open(outfile, \"a\")\n",
    "\n",
    "# Iterate through all the pages\n",
    "for i in range(1, filelimit + 1):\n",
    "    filename = \"page_\"+str(i)+\".jpg\"\n",
    "\n",
    "    # Recognize the text as string in the image using pytesseract\n",
    "    text = str(pytesseract.image_to_string(filename))\n",
    "\n",
    "    # Remove the image file after reading and extracting text from it\n",
    "    os.remove(filename)\n",
    "\n",
    "    # Write the text obtained after OCR to the output file\n",
    "    f.write(text)\n",
    "\n",
    "# Close the output file\n",
    "f.close()\n"
   ]
  },
  {
   "cell_type": "code",
   "execution_count": 1,
   "id": "ce4f43b7-dc72-46fc-9330-e1746c4d1494",
   "metadata": {},
   "outputs": [
    {
     "name": "stdout",
     "output_type": "stream",
     "text": [
      "Collecting pytesseract\n",
      "  Downloading pytesseract-0.3.10-py3-none-any.whl (14 kB)\n",
      "Requirement already satisfied: Pillow>=8.0.0 in c:\\users\\vignesh nambiar\\anaconda3\\lib\\site-packages (from pytesseract) (9.0.1)\n",
      "Requirement already satisfied: packaging>=21.3 in c:\\users\\vignesh nambiar\\anaconda3\\lib\\site-packages (from pytesseract) (21.3)\n",
      "Requirement already satisfied: pyparsing!=3.0.5,>=2.0.2 in c:\\users\\vignesh nambiar\\anaconda3\\lib\\site-packages (from packaging>=21.3->pytesseract) (3.0.4)\n",
      "Installing collected packages: pytesseract\n",
      "Successfully installed pytesseract-0.3.10\n"
     ]
    }
   ],
   "source": [
    "!pip install pytesseract"
   ]
  },
  {
   "cell_type": "code",
   "execution_count": 2,
   "id": "fb9d73ef-8222-41c6-b972-2b37c3dc595d",
   "metadata": {},
   "outputs": [
    {
     "name": "stdout",
     "output_type": "stream",
     "text": [
      "Collecting pdf2image\n",
      "  Downloading pdf2image-1.16.3-py3-none-any.whl (11 kB)\n",
      "Requirement already satisfied: pillow in c:\\users\\vignesh nambiar\\anaconda3\\lib\\site-packages (from pdf2image) (9.0.1)\n",
      "Installing collected packages: pdf2image\n",
      "Successfully installed pdf2image-1.16.3\n"
     ]
    }
   ],
   "source": [
    "!pip install pdf2image"
   ]
  },
  {
   "cell_type": "code",
   "execution_count": 3,
   "id": "bed78ea3-5796-4a58-9a22-7e2ed5098930",
   "metadata": {},
   "outputs": [
    {
     "name": "stdout",
     "output_type": "stream",
     "text": [
      "Requirement already satisfied: pillow in c:\\users\\vignesh nambiar\\anaconda3\\lib\\site-packages (9.0.1)\n"
     ]
    }
   ],
   "source": [
    "!pip install pillow"
   ]
  },
  {
   "cell_type": "code",
   "execution_count": null,
   "id": "51c91d1c-62db-431b-a8f9-403a8fc3f6ea",
   "metadata": {},
   "outputs": [],
   "source": []
  },
  {
   "cell_type": "code",
   "execution_count": null,
   "id": "451c76e3-4912-4a1d-9f56-f1cc327778a4",
   "metadata": {},
   "outputs": [],
   "source": [
    "import handprint\n",
    "import os\n",
    "\n",
    "# Define the path to the PDF file\n",
    "pdf_path = \"/path/to/pdf/file.pdf\"\n",
    "\n",
    "# Load the PDF file using Handprint\n",
    "document = handprint.document.Document(pdf_path)\n",
    "\n",
    "# Convert the document to text\n",
    "text = document.as_text()\n",
    "\n",
    "# Define the path to the text file\n",
    "txt_path = os.path.splitext(pdf_path)[0] + \".txt\"\n",
    "\n",
    "# Write the text to a file\n",
    "with open(txt_path, \"w\") as f:\n",
    "    f.write(text)"
   ]
  },
  {
   "cell_type": "code",
   "execution_count": null,
   "id": "ab20f838-ee77-480f-8db8-6902968280a5",
   "metadata": {},
   "outputs": [],
   "source": [
    "import PyPDF2\n",
    "from google.cloud import translate_v2 as translate\n",
    "\n",
    "# Set up Google Cloud Translation API client\n",
    "translate_client = translate.Client()\n",
    "\n",
    "# Read the PDF file\n",
    "pdf_file = open('input.pdf', 'rb')\n",
    "pdf_reader = PyPDF2.PdfFileReader(pdf_file)\n",
    "\n",
    "# Get the total number of pages in the PDF\n",
    "num_pages = pdf_reader.getNumPages()\n",
    "\n",
    "# Translate each page from Icelandic to English and save it as a text file\n",
    "for page_num in range(num_pages):\n",
    "    # Get the text from the current page\n",
    "    page = pdf_reader.getPage(page_num)\n",
    "    text = page.extractText()\n",
    "\n",
    "    # Translate the text using Google Cloud Translation API\n",
    "    translation = translate_client.translate(text, target_language='en')\n",
    "\n",
    "    # Save the translated text to a text file\n",
    "    output_file = open(f'output{page_num}.txt', 'w')\n",
    "    output_file.write(translation['translatedText'])\n",
    "    output_file.close()\n",
    "\n",
    "pdf_file.close()"
   ]
  },
  {
   "cell_type": "code",
   "execution_count": null,
   "id": "3059a06f-475d-4528-8da3-48e791d3f44b",
   "metadata": {},
   "outputs": [],
   "source": [
    "import os\n",
    "os.environ[\"GOOGLE_APPLICATION_CREDENTIALS\"] = \"/path/to/your/service_account_key.json\""
   ]
  },
  {
   "cell_type": "code",
   "execution_count": 2,
   "id": "7db588b7-238b-4ba1-861d-100b169b44b1",
   "metadata": {},
   "outputs": [
    {
     "name": "stdout",
     "output_type": "stream",
     "text": [
      "Collecting google-cloud-translate\n",
      "  Downloading google_cloud_translate-3.11.1-py2.py3-none-any.whl (128 kB)\n",
      "Requirement already satisfied: google-cloud-core<3.0.0dev,>=1.3.0 in c:\\users\\vignesh nambiar\\anaconda3\\lib\\site-packages (from google-cloud-translate) (1.7.1)\n",
      "Collecting google-api-core[grpc]!=2.0.*,!=2.1.*,!=2.10.*,!=2.2.*,!=2.3.*,!=2.4.*,!=2.5.*,!=2.6.*,!=2.7.*,!=2.8.*,!=2.9.*,<3.0.0dev,>=1.34.0\n",
      "  Downloading google_api_core-2.11.0-py3-none-any.whl (120 kB)\n",
      "Collecting protobuf!=3.20.0,!=3.20.1,!=4.21.0,!=4.21.1,!=4.21.2,!=4.21.3,!=4.21.4,!=4.21.5,<5.0.0dev,>=3.19.5\n",
      "  Downloading protobuf-4.22.3-cp39-cp39-win_amd64.whl (420 kB)\n",
      "Requirement already satisfied: proto-plus<2.0.0dev,>=1.22.0 in c:\\users\\vignesh nambiar\\anaconda3\\lib\\site-packages (from google-cloud-translate) (1.22.2)\n",
      "Collecting google-auth<3.0dev,>=2.14.1\n",
      "  Downloading google_auth-2.17.3-py2.py3-none-any.whl (178 kB)\n",
      "Collecting googleapis-common-protos<2.0dev,>=1.56.2\n",
      "  Downloading googleapis_common_protos-1.59.0-py2.py3-none-any.whl (223 kB)\n",
      "Requirement already satisfied: requests<3.0.0dev,>=2.18.0 in c:\\users\\vignesh nambiar\\anaconda3\\lib\\site-packages (from google-api-core[grpc]!=2.0.*,!=2.1.*,!=2.10.*,!=2.2.*,!=2.3.*,!=2.4.*,!=2.5.*,!=2.6.*,!=2.7.*,!=2.8.*,!=2.9.*,<3.0.0dev,>=1.34.0->google-cloud-translate) (2.25.0)\n",
      "Collecting grpcio-status<2.0dev,>=1.33.2\n",
      "  Downloading grpcio_status-1.53.0-py3-none-any.whl (5.1 kB)\n",
      "Requirement already satisfied: grpcio<2.0dev,>=1.33.2 in c:\\users\\vignesh nambiar\\anaconda3\\lib\\site-packages (from google-api-core[grpc]!=2.0.*,!=2.1.*,!=2.10.*,!=2.2.*,!=2.3.*,!=2.4.*,!=2.5.*,!=2.6.*,!=2.7.*,!=2.8.*,!=2.9.*,<3.0.0dev,>=1.34.0->google-cloud-translate) (1.44.0)\n",
      "Requirement already satisfied: pyasn1-modules>=0.2.1 in c:\\users\\vignesh nambiar\\anaconda3\\lib\\site-packages (from google-auth<3.0dev,>=2.14.1->google-api-core[grpc]!=2.0.*,!=2.1.*,!=2.10.*,!=2.2.*,!=2.3.*,!=2.4.*,!=2.5.*,!=2.6.*,!=2.7.*,!=2.8.*,!=2.9.*,<3.0.0dev,>=1.34.0->google-cloud-translate) (0.2.8)\n",
      "Requirement already satisfied: six>=1.9.0 in c:\\users\\vignesh nambiar\\anaconda3\\lib\\site-packages (from google-auth<3.0dev,>=2.14.1->google-api-core[grpc]!=2.0.*,!=2.1.*,!=2.10.*,!=2.2.*,!=2.3.*,!=2.4.*,!=2.5.*,!=2.6.*,!=2.7.*,!=2.8.*,!=2.9.*,<3.0.0dev,>=1.34.0->google-cloud-translate) (1.16.0)\n",
      "Requirement already satisfied: rsa<5,>=3.1.4 in c:\\users\\vignesh nambiar\\anaconda3\\lib\\site-packages (from google-auth<3.0dev,>=2.14.1->google-api-core[grpc]!=2.0.*,!=2.1.*,!=2.10.*,!=2.2.*,!=2.3.*,!=2.4.*,!=2.5.*,!=2.6.*,!=2.7.*,!=2.8.*,!=2.9.*,<3.0.0dev,>=1.34.0->google-cloud-translate) (4.7.2)\n",
      "Requirement already satisfied: cachetools<6.0,>=2.0.0 in c:\\users\\vignesh nambiar\\anaconda3\\lib\\site-packages (from google-auth<3.0dev,>=2.14.1->google-api-core[grpc]!=2.0.*,!=2.1.*,!=2.10.*,!=2.2.*,!=2.3.*,!=2.4.*,!=2.5.*,!=2.6.*,!=2.7.*,!=2.8.*,!=2.9.*,<3.0.0dev,>=1.34.0->google-cloud-translate) (4.2.2)\n",
      "Collecting google-cloud-core<3.0.0dev,>=1.3.0\n",
      "  Downloading google_cloud_core-2.3.2-py2.py3-none-any.whl (29 kB)\n",
      "Collecting grpcio<2.0dev,>=1.33.2\n",
      "  Downloading grpcio-1.53.0-cp39-cp39-win_amd64.whl (4.0 MB)\n",
      "Requirement already satisfied: pyasn1<0.5.0,>=0.4.6 in c:\\users\\vignesh nambiar\\anaconda3\\lib\\site-packages (from pyasn1-modules>=0.2.1->google-auth<3.0dev,>=2.14.1->google-api-core[grpc]!=2.0.*,!=2.1.*,!=2.10.*,!=2.2.*,!=2.3.*,!=2.4.*,!=2.5.*,!=2.6.*,!=2.7.*,!=2.8.*,!=2.9.*,<3.0.0dev,>=1.34.0->google-cloud-translate) (0.4.8)\n",
      "Requirement already satisfied: certifi>=2017.4.17 in c:\\users\\vignesh nambiar\\anaconda3\\lib\\site-packages (from requests<3.0.0dev,>=2.18.0->google-api-core[grpc]!=2.0.*,!=2.1.*,!=2.10.*,!=2.2.*,!=2.3.*,!=2.4.*,!=2.5.*,!=2.6.*,!=2.7.*,!=2.8.*,!=2.9.*,<3.0.0dev,>=1.34.0->google-cloud-translate) (2021.10.8)\n",
      "Requirement already satisfied: chardet<4,>=3.0.2 in c:\\users\\vignesh nambiar\\anaconda3\\lib\\site-packages (from requests<3.0.0dev,>=2.18.0->google-api-core[grpc]!=2.0.*,!=2.1.*,!=2.10.*,!=2.2.*,!=2.3.*,!=2.4.*,!=2.5.*,!=2.6.*,!=2.7.*,!=2.8.*,!=2.9.*,<3.0.0dev,>=1.34.0->google-cloud-translate) (3.0.4)\n",
      "Requirement already satisfied: idna<3,>=2.5 in c:\\users\\vignesh nambiar\\anaconda3\\lib\\site-packages (from requests<3.0.0dev,>=2.18.0->google-api-core[grpc]!=2.0.*,!=2.1.*,!=2.10.*,!=2.2.*,!=2.3.*,!=2.4.*,!=2.5.*,!=2.6.*,!=2.7.*,!=2.8.*,!=2.9.*,<3.0.0dev,>=1.34.0->google-cloud-translate) (2.10)\n",
      "Requirement already satisfied: urllib3<1.27,>=1.21.1 in c:\\users\\vignesh nambiar\\anaconda3\\lib\\site-packages (from requests<3.0.0dev,>=2.18.0->google-api-core[grpc]!=2.0.*,!=2.1.*,!=2.10.*,!=2.2.*,!=2.3.*,!=2.4.*,!=2.5.*,!=2.6.*,!=2.7.*,!=2.8.*,!=2.9.*,<3.0.0dev,>=1.34.0->google-cloud-translate) (1.26.5)\n",
      "Installing collected packages: protobuf, grpcio, googleapis-common-protos, google-auth, grpcio-status, google-api-core, google-cloud-core, google-cloud-translate\n",
      "  Attempting uninstall: protobuf\n",
      "    Found existing installation: protobuf 3.19.1\n",
      "    Uninstalling protobuf-3.19.1:\n",
      "      Successfully uninstalled protobuf-3.19.1\n",
      "  Attempting uninstall: grpcio\n",
      "    Found existing installation: grpcio 1.44.0\n",
      "    Uninstalling grpcio-1.44.0:\n",
      "      Successfully uninstalled grpcio-1.44.0\n",
      "  Attempting uninstall: googleapis-common-protos\n",
      "    Found existing installation: googleapis-common-protos 1.53.0\n",
      "    Uninstalling googleapis-common-protos-1.53.0:\n",
      "      Successfully uninstalled googleapis-common-protos-1.53.0\n",
      "  Attempting uninstall: google-auth\n",
      "    Found existing installation: google-auth 1.30.2\n",
      "    Uninstalling google-auth-1.30.2:\n",
      "      Successfully uninstalled google-auth-1.30.2\n",
      "  Attempting uninstall: google-api-core\n",
      "    Found existing installation: google-api-core 1.30.0\n",
      "    Uninstalling google-api-core-1.30.0:\n",
      "      Successfully uninstalled google-api-core-1.30.0\n",
      "  Attempting uninstall: google-cloud-core\n",
      "    Found existing installation: google-cloud-core 1.7.1\n",
      "    Uninstalling google-cloud-core-1.7.1:\n",
      "      Successfully uninstalled google-cloud-core-1.7.1\n",
      "Successfully installed google-api-core-2.11.0 google-auth-2.17.3 google-cloud-core-2.3.2 google-cloud-translate-3.11.1 googleapis-common-protos-1.59.0 grpcio-1.53.0 grpcio-status-1.53.0 protobuf-4.22.3\n"
     ]
    },
    {
     "name": "stderr",
     "output_type": "stream",
     "text": [
      "ERROR: pip's dependency resolver does not currently take into account all the packages that are installed. This behaviour is the source of the following dependency conflicts.\n",
      "streamlit 1.19.0 requires protobuf<4,>=3.12, but you have protobuf 4.22.3 which is incompatible.\n",
      "handprint 1.6.0 requires google-api-core==1.30.0, but you have google-api-core 2.11.0 which is incompatible.\n",
      "handprint 1.6.0 requires google-auth==1.30.2, but you have google-auth 2.17.3 which is incompatible.\n",
      "handprint 1.6.0 requires googleapis-common-protos==1.53.0, but you have googleapis-common-protos 1.59.0 which is incompatible.\n",
      "handprint 1.6.0 requires grpcio==1.44.0, but you have grpcio 1.53.0 which is incompatible.\n",
      "google-cloud-vision 2.3.1 requires google-api-core[grpc]<2.0.0dev,>=1.22.2, but you have google-api-core 2.11.0 which is incompatible.\n",
      "google-cloud-storage 1.31.0 requires google-auth<2.0dev,>=1.11.0, but you have google-auth 2.17.3 which is incompatible.\n",
      "google-cloud-storage 1.31.0 requires google-cloud-core<2.0dev,>=1.4.1, but you have google-cloud-core 2.3.2 which is incompatible.\n",
      "google-api-python-client 2.8.0 requires google-api-core<2dev,>=1.21.0, but you have google-api-core 2.11.0 which is incompatible.\n",
      "google-api-python-client 2.8.0 requires google-auth<2dev,>=1.16.0, but you have google-auth 2.17.3 which is incompatible.\n"
     ]
    }
   ],
   "source": [
    "!pip install google-cloud-translate"
   ]
  },
  {
   "cell_type": "code",
   "execution_count": null,
   "id": "ad68d223-7295-43bc-9204-400e9676ef8b",
   "metadata": {},
   "outputs": [],
   "source": []
  }
 ],
 "metadata": {
  "kernelspec": {
   "display_name": "Python 3 (ipykernel)",
   "language": "python",
   "name": "python3"
  },
  "language_info": {
   "codemirror_mode": {
    "name": "ipython",
    "version": 3
   },
   "file_extension": ".py",
   "mimetype": "text/x-python",
   "name": "python",
   "nbconvert_exporter": "python",
   "pygments_lexer": "ipython3",
   "version": "3.9.12"
  }
 },
 "nbformat": 4,
 "nbformat_minor": 5
}
